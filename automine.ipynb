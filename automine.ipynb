{
 "cells": [
  {
   "cell_type": "code",
   "execution_count": 9,
   "metadata": {},
   "outputs": [],
   "source": [
    "from time import sleep\n",
    "from py4j.java_gateway import JavaGateway\n",
    "\n",
    "gateway = JavaGateway(auto_convert=True)\n",
    "mc = gateway.entry_point\n",
    "\n",
    "default = {\"default\" : \"\"}"
   ]
  },
  {
   "cell_type": "code",
   "execution_count": 10,
   "metadata": {},
   "outputs": [],
   "source": [
    "mc.put_and_get(\"send_chat_message\", {\"message\": \"/autotorch\"});\n",
    "mc.put_and_get(\"send_chat_message\", {\"message\": \"/automine\"});\n",
    "mc.put_and_get(\"send_chat_message\", {\"message\": \"/safemine\"});"
   ]
  },
  {
   "cell_type": "code",
   "execution_count": 12,
   "metadata": {},
   "outputs": [
    {
     "name": "stdout",
     "output_type": "stream",
     "text": [
      "DEBUG: no space\n"
     ]
    }
   ],
   "source": [
    "y_height = 10\n",
    "\n",
    "flag = 0\n",
    "loop = 0\n",
    "while 1: \n",
    "    loop = loop + 1\n",
    "    if loop % 10 == 1:\n",
    "        if flag == 0:\n",
    "            mc.put(\"nospace\", {\"sid\": \"nospace\"})\n",
    "            mc.put(\"switch_items\", {\"sid\": \"switch_items_torch\", \"name\": \"minecraft:torch\", \"hand\": \"off\"})\n",
    "            mc.put(\"switch_items\", {\"sid\": \"switch_items_pickaxe\", \"name\": \"minecraft:netherite_pickaxe\"})\n",
    "            hungry = mc.put_and_get(\"hungry\", default)\n",
    "            \n",
    "            # check if the inventory is full\n",
    "            nospace_res = mc.get(\"nospace\")\n",
    "            if nospace_res[\"res\"] == \"1\":\n",
    "                flag = 1\n",
    "                print(\"DEBUG: no space\")\n",
    "            \n",
    "            # switch torchs to the off hand\n",
    "            torch_res = mc.get(\"switch_items_torch\")\n",
    "            if torch_res[\"res\"] != \"success\" and torch_res[\"res\"] != \"already in the off hand\":\n",
    "                flag = 1\n",
    "                print(\"DEBUG: off hand no torch\")\n",
    "            \n",
    "            # switch the pickaxe to the main hand\n",
    "            pickaxe_res = mc.get(\"switch_items_pickaxe\")\n",
    "            if pickaxe_res[\"res\"] != \"success\" and pickaxe_res[\"res\"] != \"already in the main hand\":\n",
    "                flag = 1\n",
    "                print(\"DEBUG: main hand no pickaxe\")\n",
    "            \n",
    "            if hungry and int(hungry[\"res\"]) <= 12:\n",
    "                mc.put_and_get(\"switch_items\", {\"name\": \"minecraft:cooked_cod\"})\n",
    "                mc.put_and_get(\"use\", default)\n",
    "                sleep(0.5)\n",
    "                res = mc.put_and_get(\"switch_items\", {\"name\": \"minecraft:netherite_pickaxe\"})\n",
    "                sleep(0.5)\n",
    "    \n",
    "    if flag == 0:\n",
    "        # find a block that can be mined\n",
    "        nearby_block_res = mc.put_and_get(\"find_safe_mine_block\", default)\n",
    "        if not nearby_block_res[\"x\"]:\n",
    "            flag = 1\n",
    "            print(\"DEBUG: no nearby safe mine block\")\n",
    "    \n",
    "    if flag == 0:\n",
    "        # move to the block with 3 attempts\n",
    "        flag_moved = 0\n",
    "        mc.put(\"move\", {\"sid\": \"move_1\", \"x\": nearby_block_res[\"x_standing\"], \"y\": nearby_block_res[\"y_standing\"], \"z\": nearby_block_res[\"z_standing\"], \"nojump\": \"1\"})\n",
    "        mc.put(\"move\", {\"sid\": \"move_2\", \"x\": nearby_block_res[\"x_standing\"], \"y\": nearby_block_res[\"y_standing\"], \"z\": nearby_block_res[\"z_standing\"], \"nojump\": \"1\"})\n",
    "        mc.put(\"move\", {\"sid\": \"move_3\", \"x\": nearby_block_res[\"x_standing\"], \"y\": nearby_block_res[\"y_standing\"], \"z\": nearby_block_res[\"z_standing\"], \"nojump\": \"1\"})\n",
    "        start_breaking_res = mc.put_and_get(\"start_mine\", {\"sid\": \"start_mine\", \"x\": nearby_block_res[\"x\"], \"y\": nearby_block_res[\"y\"], \"z\": nearby_block_res[\"z\"]})\n",
    "        \n",
    "        move_result = mc.get(\"move_3\")\n",
    "        if move_result[\"res\"] and float(move_result[\"res\"]) < 6:\n",
    "            flag_moved = 1\n",
    "        if flag_moved == 0:\n",
    "            flag = 1\n",
    "            print(\"DEBUG: cannot move\")\n",
    "    \n",
    "        if not start_breaking_res[\"res\"]:\n",
    "            flag = 1\n",
    "            print(\"DEBUG: cannot staert breaking\")\n",
    "    \n",
    "    if flag == 0:\n",
    "        # finish breaking\n",
    "        if float(start_breaking_res[\"res\"]) > 0:\n",
    "            time = float(start_breaking_res[\"res\"])\n",
    "            sleep(0.8 / time / 20)\n",
    "            finish_breaking_res = mc.put_and_get(\"finish_mine\", nearby_block_res)\n",
    "            if (not finish_breaking_res[\"res\"]) or finish_breaking_res[\"res\"] == \"failed\":\n",
    "                flag = 1\n",
    "                print(\"DEBUG: cannot finish breaking\")\n",
    "    \n",
    "    if nearby_block_res[\"y\"] == str(y_height):\n",
    "        sleep(0.5)\n",
    "        if flag == 0:\n",
    "            # start breaking\n",
    "            start_breaking_res = mc.put_and_get(\"start_mine\", {\"x\": nearby_block_res[\"x\"], \"y\": str(int(nearby_block_res[\"y\"]) + 1), \"z\": nearby_block_res[\"z\"]})\n",
    "\n",
    "        if flag == 0:\n",
    "            # finish breaking\n",
    "            if start_breaking_res[\"res\"] and start_breaking_res[\"res\"] != \"0\":\n",
    "                time = float(start_breaking_res[\"res\"])\n",
    "                sleep(0.8 / time / 20)\n",
    "                mc.put(\"finish_mine\", {\"sid\": \"finish_mine_2\", \"x\": nearby_block_res[\"x\"], \"y\": str(int(nearby_block_res[\"y\"]) + 1), \"z\": nearby_block_res[\"z\"]})\n",
    "    \n",
    "    sleep(0.5)\n",
    "    if flag == 0:\n",
    "        mc.put_and_get(\"move\", {\"x\": nearby_block_res[\"x\"], \"y\": str(y_height), \"z\": nearby_block_res[\"z\"], \"nojump\": \"1\"})\n",
    "    \n",
    "    if flag == 1:\n",
    "        break;\n",
    "    sleep(0.5)"
   ]
  },
  {
   "cell_type": "code",
   "execution_count": null,
   "metadata": {},
   "outputs": [],
   "source": []
  }
 ],
 "metadata": {
  "kernelspec": {
   "display_name": "Python 2",
   "language": "python",
   "name": "python2"
  },
  "language_info": {
   "codemirror_mode": {
    "name": "ipython",
    "version": 2
   },
   "file_extension": ".py",
   "mimetype": "text/x-python",
   "name": "python",
   "nbconvert_exporter": "python",
   "pygments_lexer": "ipython2",
   "version": "2.7.18"
  }
 },
 "nbformat": 4,
 "nbformat_minor": 2
}
