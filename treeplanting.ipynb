{
 "cells": [
  {
   "cell_type": "code",
   "execution_count": 1,
   "metadata": {},
   "outputs": [],
   "source": [
    "from time import sleep\n",
    "from py4j.java_gateway import JavaGateway\n",
    "\n",
    "gateway = JavaGateway(auto_convert=True)\n",
    "mc = gateway.entry_point\n",
    "\n",
    "default = {\"default\" : \"\"}\n",
    "\n",
    "mc.put_and_get(\"send_chat_message\", {\"message\": \"/autoplant\"});"
   ]
  },
  {
   "cell_type": "code",
   "execution_count": 9,
   "metadata": {},
   "outputs": [
    {
     "ename": "KeyboardInterrupt",
     "evalue": "",
     "output_type": "error",
     "traceback": [
      "\u001b[0;31m---------------------------------------------------------------------------\u001b[0m",
      "\u001b[0;31mKeyboardInterrupt\u001b[0m                         Traceback (most recent call last)",
      "\u001b[0;32m<ipython-input-9-d8d41f2b752f>\u001b[0m in \u001b[0;36m<module>\u001b[0;34m()\u001b[0m\n\u001b[1;32m     16\u001b[0m             \u001b[0mmc\u001b[0m\u001b[0;34m.\u001b[0m\u001b[0mput_and_get\u001b[0m\u001b[0;34m(\u001b[0m\u001b[0;34m\"move\"\u001b[0m\u001b[0;34m,\u001b[0m \u001b[0;34m{\u001b[0m\u001b[0;34m\"x\"\u001b[0m\u001b[0;34m:\u001b[0m \u001b[0mstr\u001b[0m\u001b[0;34m(\u001b[0m\u001b[0mbottom_x\u001b[0m\u001b[0;34m)\u001b[0m\u001b[0;34m,\u001b[0m \u001b[0;34m\"y\"\u001b[0m\u001b[0;34m:\u001b[0m \u001b[0;34m\"103\"\u001b[0m\u001b[0;34m,\u001b[0m \u001b[0;34m\"z\"\u001b[0m\u001b[0;34m:\u001b[0m \u001b[0mstr\u001b[0m\u001b[0;34m(\u001b[0m\u001b[0mup_z\u001b[0m \u001b[0;34m+\u001b[0m \u001b[0;36m1\u001b[0m \u001b[0;34m*\u001b[0m \u001b[0mj\u001b[0m\u001b[0;34m)\u001b[0m\u001b[0;34m}\u001b[0m\u001b[0;34m)\u001b[0m\u001b[0;34m\u001b[0m\u001b[0m\n\u001b[1;32m     17\u001b[0m             \u001b[0mmc\u001b[0m\u001b[0;34m.\u001b[0m\u001b[0mput_and_get\u001b[0m\u001b[0;34m(\u001b[0m\u001b[0;34m\"switch_items\"\u001b[0m\u001b[0;34m,\u001b[0m \u001b[0;34m{\u001b[0m\u001b[0;34m\"name\"\u001b[0m\u001b[0;34m:\u001b[0m \u001b[0;34m\"minecraft:spruce_sapling\"\u001b[0m\u001b[0;34m}\u001b[0m\u001b[0;34m)\u001b[0m\u001b[0;34m\u001b[0m\u001b[0m\n\u001b[0;32m---> 18\u001b[0;31m             \u001b[0msleep\u001b[0m\u001b[0;34m(\u001b[0m\u001b[0;36m1\u001b[0m\u001b[0;34m)\u001b[0m\u001b[0;34m\u001b[0m\u001b[0m\n\u001b[0m\u001b[1;32m     19\u001b[0m \u001b[0;34m\u001b[0m\u001b[0m\n",
      "\u001b[0;31mKeyboardInterrupt\u001b[0m: "
     ]
    }
   ],
   "source": [
    "for i in range(8):\n",
    "    bottom_x = -2172 + 8 * i\n",
    "    bottom_z = -48\n",
    "    up_x = bottom_x\n",
    "    up_z = -103\n",
    "    \n",
    "    if i % 2 == 0:\n",
    "        # bottom to top\n",
    "        for j in range(55):\n",
    "            mc.put_and_get(\"move\", {\"x\": str(bottom_x), \"y\": \"103\", \"z\": str(bottom_z - 1 * j)})\n",
    "            mc.put_and_get(\"switch_items\", {\"name\": \"minecraft:spruce_sapling\"})\n",
    "            sleep(1)\n",
    "    else:\n",
    "        # top to bottom\n",
    "        for j in range(55):\n",
    "            mc.put_and_get(\"move\", {\"x\": str(bottom_x), \"y\": \"103\", \"z\": str(up_z + 1 * j)})\n",
    "            mc.put_and_get(\"switch_items\", {\"name\": \"minecraft:spruce_sapling\"})\n",
    "            sleep(1)\n",
    "            "
   ]
  },
  {
   "cell_type": "code",
   "execution_count": null,
   "metadata": {},
   "outputs": [],
   "source": []
  }
 ],
 "metadata": {
  "kernelspec": {
   "display_name": "Python 2",
   "language": "python",
   "name": "python2"
  },
  "language_info": {
   "codemirror_mode": {
    "name": "ipython",
    "version": 2
   },
   "file_extension": ".py",
   "mimetype": "text/x-python",
   "name": "python",
   "nbconvert_exporter": "python",
   "pygments_lexer": "ipython2",
   "version": "2.7.18"
  }
 },
 "nbformat": 4,
 "nbformat_minor": 2
}
